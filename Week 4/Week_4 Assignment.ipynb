{
 "cells": [
  {
   "cell_type": "markdown",
   "metadata": {},
   "source": [
    "# AIM :\n",
    "   * If someone is new to New York and wants to try Indian Food, this project will help him/her get to the place with highest number of Indian Restaurants.\n",
    "   * So as part of this project , we will list and visualise all major parts of New York City that has great Indian restaurants."
   ]
  },
  {
   "cell_type": "markdown",
   "metadata": {},
   "source": [
    "<---------------------------------------------------------------------------------------------------------------->"
   ]
  },
  {
   "cell_type": "markdown",
   "metadata": {},
   "source": [
    "# DATA :\n",
    "   * https://cocl.us/new_york_dataset\n",
    "       * New York City data that contains list Boroughs, Neighborhoods along with their latitude and longitude.\n",
    "   * Fousquare API\n",
    "       * By using this api we will get all the venues in each neighborhood. We can filter these venues to get only indian resturants.\n",
    "   * https://data.cityofnewyork.us/City-Government/Borough-Boundaries/tqmj-j8zm\n",
    "       * By using this geo space data we will get the New york Borough boundaries that will help us visualize choropleth map."
   ]
  },
  {
   "cell_type": "markdown",
   "metadata": {},
   "source": [
    "<---------------------------------------------------------------------------------------------------------------->"
   ]
  },
  {
   "cell_type": "markdown",
   "metadata": {},
   "source": [
    "# APPROACH :\n",
    "   * Collect the new york city data from https://cocl.us/new_york_dataset\n",
    "   * Using FourSquare API we will find all venues for each neighborhood.\n",
    "   * Filter out all venues that are Indian Resturants.\n",
    "   * Find rating , tips and like count for each Indian Resturants using FourSquare API.\n",
    "   * Using rating for each resturant , we will sort that data.\n",
    "   * Visualize the Ranking of neighborhoods using 'Folium Library'(Python)"
   ]
  },
  {
   "cell_type": "markdown",
   "metadata": {},
   "source": [
    "<---------------------------------------------------------------------------------------------------------------->"
   ]
  },
  {
   "cell_type": "markdown",
   "metadata": {},
   "source": [
    "<iSiddharth>"
   ]
  },
  {
   "cell_type": "markdown",
   "metadata": {},
   "source": [
    "<- iSiddharth ->"
   ]
  }
 ],
 "metadata": {
  "kernelspec": {
   "display_name": "Python 3",
   "language": "python",
   "name": "python3"
  },
  "language_info": {
   "codemirror_mode": {
    "name": "ipython",
    "version": 3
   },
   "file_extension": ".py",
   "mimetype": "text/x-python",
   "name": "python",
   "nbconvert_exporter": "python",
   "pygments_lexer": "ipython3",
   "version": "3.7.5"
  }
 },
 "nbformat": 4,
 "nbformat_minor": 2
}
