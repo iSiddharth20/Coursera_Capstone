{
 "cells": [
  {
   "cell_type": "markdown",
   "metadata": {},
   "source": [
    "Explore and Cluster"
   ]
  },
  {
   "cell_type": "code",
   "execution_count": 5,
   "metadata": {},
   "outputs": [
    {
     "ename": "ModuleNotFoundError",
     "evalue": "No module named 'wikipedia'",
     "output_type": "error",
     "traceback": [
      "\u001b[0;31m---------------------------------------------------------------------------\u001b[0m",
      "\u001b[0;31mModuleNotFoundError\u001b[0m                       Traceback (most recent call last)",
      "\u001b[0;32m<ipython-input-5-3dccb4814b62>\u001b[0m in \u001b[0;36m<module>\u001b[0;34m\u001b[0m\n\u001b[1;32m      5\u001b[0m \u001b[0;31m# Importing required Libraries\u001b[0m\u001b[0;34m\u001b[0m\u001b[0;34m\u001b[0m\u001b[0;34m\u001b[0m\u001b[0m\n\u001b[1;32m      6\u001b[0m \u001b[0;32mimport\u001b[0m \u001b[0mpandas\u001b[0m \u001b[0;32mas\u001b[0m \u001b[0mpd\u001b[0m\u001b[0;34m\u001b[0m\u001b[0;34m\u001b[0m\u001b[0m\n\u001b[0;32m----> 7\u001b[0;31m \u001b[0;32mimport\u001b[0m \u001b[0mwikipedia\u001b[0m \u001b[0;32mas\u001b[0m \u001b[0mwp\u001b[0m\u001b[0;34m\u001b[0m\u001b[0;34m\u001b[0m\u001b[0m\n\u001b[0m\u001b[1;32m      8\u001b[0m \u001b[0;31m# Web Scrapping the Wikipedia Page\u001b[0m\u001b[0;34m\u001b[0m\u001b[0;34m\u001b[0m\u001b[0;34m\u001b[0m\u001b[0m\n\u001b[1;32m      9\u001b[0m \u001b[0mhtml\u001b[0m \u001b[0;34m=\u001b[0m \u001b[0mwp\u001b[0m\u001b[0;34m.\u001b[0m\u001b[0mpage\u001b[0m\u001b[0;34m(\u001b[0m\u001b[0;34m\"List of postal codes of Canada: M\"\u001b[0m\u001b[0;34m)\u001b[0m\u001b[0;34m.\u001b[0m\u001b[0mhtml\u001b[0m\u001b[0;34m(\u001b[0m\u001b[0;34m)\u001b[0m\u001b[0;34m.\u001b[0m\u001b[0mencode\u001b[0m\u001b[0;34m(\u001b[0m\u001b[0;34m\"UTF-8\"\u001b[0m\u001b[0;34m)\u001b[0m\u001b[0;34m\u001b[0m\u001b[0;34m\u001b[0m\u001b[0m\n",
      "\u001b[0;31mModuleNotFoundError\u001b[0m: No module named 'wikipedia'"
     ]
    }
   ],
   "source": [
    "\"\"\"\n",
    "Data From Previous File (1/3)\n",
    "\"\"\"\n",
    "\n",
    "# Importing required Libraries\n",
    "import pandas as pd\n",
    "import wikipedia as wp\n",
    "# Web Scrapping the Wikipedia Page\n",
    "html = wp.page(\"List of postal codes of Canada: M\").html().encode(\"UTF-8\")\n",
    "df = pd.read_html(html)[0]\n",
    "# Removing Entries that have 'Not Assignes' Borough\n",
    "df = df[df.Borough != 'Not assigned']\n",
    "# Grouping Neighbourhood based on Post Codes\n",
    "df = df.groupby(['Postcode','Borough'])['Neighbourhood'].apply(', '.join).reset_index()\n",
    "# For 'Not Assigned' Neighbourhood, copying the data from Borough\n",
    "# Getting ready for Data Transfer from Columns to List\n",
    "Borough = list(df['Borough'])\n",
    "Neighbourhood = list(df['Neighbourhood'])\n",
    "# Copying the Data\n",
    "for i,v in enumerate(Neighbourhood):\n",
    "    if (Neighbourhood[i]=='Not assigned'):\n",
    "        Neighbourhood[i]=Borough[i]\n",
    "# Getting data back from list to Column\n",
    "df['Neighbourhood']=Neighbourhood\n",
    "df['Borough']=Borough\n",
    "\n",
    "\"\"\"\n",
    "Data From Previous File (2/3)\n",
    "\"\"\"\n",
    "\n",
    "# Importing Geospatial Data\n",
    "path = '/Volumes/Internal/GitHub/Coursera_Capstone/Geospatial_Coordinates.csv' # Change this when needed\n",
    "df1 = pd.read_csv(path)\n",
    "# Renaming the Column to Ease the Merging Process\n",
    "df1.rename(columns={\"Postal Code\": \"Postcode\"}, inplace=True)\n",
    "# Merging the two Data Frames\n",
    "newdf = pd.merge(df,df1,on='Postcode')"
   ]
  },
  {
   "cell_type": "code",
   "execution_count": 2,
   "metadata": {},
   "outputs": [],
   "source": [
    "newpath = '/Volumes/Internal/GitHub/Coursera_Capstone/NewYorkData.json' # Change this when needed"
   ]
  },
  {
   "cell_type": "code",
   "execution_count": null,
   "metadata": {},
   "outputs": [],
   "source": []
  }
 ],
 "metadata": {
  "kernelspec": {
   "display_name": "Python 3",
   "language": "python",
   "name": "python3"
  },
  "language_info": {
   "codemirror_mode": {
    "name": "ipython",
    "version": 3
   },
   "file_extension": ".py",
   "mimetype": "text/x-python",
   "name": "python",
   "nbconvert_exporter": "python",
   "pygments_lexer": "ipython3",
   "version": "3.7.5"
  }
 },
 "nbformat": 4,
 "nbformat_minor": 2
}
