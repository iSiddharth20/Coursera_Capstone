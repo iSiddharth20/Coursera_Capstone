{
 "cells": [
  {
   "cell_type": "markdown",
   "metadata": {},
   "source": [
    "Explore and Cluster"
   ]
  },
  {
   "cell_type": "code",
   "execution_count": 2,
   "metadata": {},
   "outputs": [],
   "source": [
    "\"\"\"\n",
    "Data From Previous File (1/3)\n",
    "\"\"\"\n",
    "\n",
    "# Importing required Libraries\n",
    "import pandas as pd\n",
    "import wikipedia as wp\n",
    "# Web Scrapping the Wikipedia Page\n",
    "html = wp.page(\"List of postal codes of Canada: M\").html().encode(\"UTF-8\")\n",
    "df = pd.read_html(html)[0]\n",
    "# Removing Entries that have 'Not Assignes' Borough\n",
    "df = df[df.Borough != 'Not assigned']\n",
    "# Grouping Neighbourhood based on Post Codes\n",
    "df = df.groupby(['Postcode','Borough'])['Neighbourhood'].apply(', '.join).reset_index()\n",
    "# For 'Not Assigned' Neighbourhood, copying the data from Borough\n",
    "# Getting ready for Data Transfer from Columns to List\n",
    "Borough = list(df['Borough'])\n",
    "Neighbourhood = list(df['Neighbourhood'])\n",
    "# Copying the Data\n",
    "for i,v in enumerate(Neighbourhood):\n",
    "    if (Neighbourhood[i]=='Not assigned'):\n",
    "        Neighbourhood[i]=Borough[i]\n",
    "# Getting data back from list to Column\n",
    "df['Neighbourhood']=Neighbourhood\n",
    "df['Borough']=Borough\n",
    "\n",
    "\"\"\"\n",
    "Data From Previous File (2/3)\n",
    "\"\"\"\n",
    "\n",
    "# Importing Geospatial Data\n",
    "path = '/Volumes/Internal/GitHub/Coursera_Capstone/Geospatial_Coordinates.csv' # Change this when needed\n",
    "df1 = pd.read_csv(path)\n",
    "# Renaming the Column to Ease the Merging Process\n",
    "df1.rename(columns={\"Postal Code\": \"Postcode\"}, inplace=True)\n",
    "# Merging the two Data Frames\n",
    "newdf = pd.merge(df,df1,on='Postcode')"
   ]
  },
  {
   "cell_type": "code",
   "execution_count": 3,
   "metadata": {},
   "outputs": [],
   "source": [
    "newpath = '/Volumes/Internal/GitHub/Coursera_Capstone/NewYorkData.json' # Change this when needed"
   ]
  },
  {
   "cell_type": "code",
   "execution_count": null,
   "metadata": {},
   "outputs": [],
   "source": []
  }
 ],
 "metadata": {
  "kernelspec": {
   "display_name": "Python 3",
   "language": "python",
   "name": "python3"
  },
  "language_info": {
   "codemirror_mode": {
    "name": "ipython",
    "version": 3
   },
   "file_extension": ".py",
   "mimetype": "text/x-python",
   "name": "python",
   "nbconvert_exporter": "python",
   "pygments_lexer": "ipython3",
   "version": "3.8.0"
  }
 },
 "nbformat": 4,
 "nbformat_minor": 2
}
