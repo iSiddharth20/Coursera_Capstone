{
 "cells": [
  {
   "cell_type": "markdown",
   "metadata": {},
   "source": [
    "# Data Sourcing and Division"
   ]
  },
  {
   "cell_type": "code",
   "execution_count": 1,
   "metadata": {},
   "outputs": [],
   "source": [
    "# Importing Libraries\n",
    "import io\n",
    "import requests\n",
    "import pandas as pd "
   ]
  },
  {
   "cell_type": "code",
   "execution_count": 2,
   "metadata": {},
   "outputs": [],
   "source": [
    "# Obtaining the Data\n",
    "url = 'https://docs.google.com/spreadsheets/d/e/2PACX-1vSc_2y5N0I67wDU38DjDh35IZSIS30rQf7_NYZhtYYGU1jJYT6_kDx4YpF-qw0LSlGsBYP8pqM_a1Pd/pub?output=csv'\n",
    "res = requests.get(url)\n",
    "raw_data = pd.read_csv(io.BytesIO(res.content), sep=',')\n",
    "data = raw_data[['Detected State','Detected City']]"
   ]
  },
  {
   "cell_type": "code",
   "execution_count": 3,
   "metadata": {},
   "outputs": [],
   "source": [
    "# Dividing the Data\n",
    "MH_Data = data[data['Detected State'] == 'Maharashtra']\n",
    "MH_Data = MH_Data.dropna()\n",
    "\n",
    "TN_Data = data[data['Detected State'] == 'Tamil Nadu']\n",
    "TN_Data = TN_Data.dropna()\n",
    "\n",
    "DL_Data = data[data['Detected State'] == 'Delhi']\n",
    "DL_Data = DL_Data.dropna()\n",
    "\n",
    "MP_Data = data[data['Detected State'] == 'Madhya Pradesh']\n",
    "MP_Data = MP_Data.dropna()"
   ]
  },
  {
   "cell_type": "markdown",
   "metadata": {},
   "source": [
    "# Creating Required Data Frames"
   ]
  },
  {
   "cell_type": "code",
   "execution_count": 4,
   "metadata": {},
   "outputs": [],
   "source": [
    "'''\n",
    "Maharashtra Data Frame\n",
    "'''\n",
    "\n",
    "MH = []\n",
    "# 'x' will have all the names of Cities in the State\n",
    "for x in MH_Data['Detected City'].unique():\n",
    "    # 'temp' is a DataFrame that contains details of the Current City\n",
    "    temp = MH_Data[MH_Data['Detected City']==x]\n",
    "    # The List 'MH' contains sub-lists with 'Name of City' and 'Number of Registered Cases'\n",
    "    MH.append([x,temp['Detected City'].count()])\n",
    "# Converting the Nested List into a DataFrame\n",
    "MH_df = pd.DataFrame(MH)\n",
    "# Defining the Column Names\n",
    "MH_df.columns = ['City_Name','Number_Of_Patients']\n",
    "# Arranging the DataFrame in Descending Order to Obtain Cities with Max Cases on Top\n",
    "MH_df = MH_df.sort_values(by=['Number_Of_Patients'],ascending=False)"
   ]
  },
  {
   "cell_type": "code",
   "execution_count": 5,
   "metadata": {},
   "outputs": [],
   "source": [
    "'''\n",
    "Tamil Nanu Data Frame\n",
    "'''\n",
    "\n",
    "TN = []\n",
    "# 'x' will have all the names of Cities in the State\n",
    "for x in TN_Data['Detected City'].unique():\n",
    "    # 'temp' is a DataFrame that contains details of the Current City\n",
    "    temp = TN_Data[TN_Data['Detected City']==x]\n",
    "    # The List 'TN' contains sub-lists with 'Name of City' and 'Number of Registered Cases'\n",
    "    TN.append([x,temp['Detected City'].count()])\n",
    "# Converting the Nested List into a DataFrame\n",
    "TN_df = pd.DataFrame(TN)\n",
    "# Defining the Column Names\n",
    "TN_df.columns = ['City_Name','Number_Of_Patients']\n",
    "# Arranging the DataFrame in Descending Order to Obtain Cities with Max Cases on Top\n",
    "TN_df = TN_df.sort_values(by=['Number_Of_Patients'],ascending=False)"
   ]
  },
  {
   "cell_type": "code",
   "execution_count": 6,
   "metadata": {},
   "outputs": [],
   "source": [
    "'''\n",
    "Delhi Data Frame\n",
    "'''\n",
    "\n",
    "DL = []\n",
    "# 'x' will have all the names of Cities in the State\n",
    "for x in DL_Data['Detected City'].unique():\n",
    "    # 'temp' is a DataFrame that contains details of the Current City\n",
    "    temp = DL_Data[DL_Data['Detected City']==x]\n",
    "    # The List 'DL' contains sub-lists with 'Name of City' and 'Number of Registered Cases'\n",
    "    DL.append([x,temp['Detected City'].count()])\n",
    "# Converting the Nested List into a DataFrame\n",
    "DL_df = pd.DataFrame(DL)\n",
    "# Defining the Column Names\n",
    "DL_df.columns = ['City_Name','Number_Of_Patients']\n",
    "# Arranging the DataFrame in Descending Order to Obtain Cities with Max Cases on Top\n",
    "DL_df = DL_df.sort_values(by=['Number_Of_Patients'],ascending=False)"
   ]
  },
  {
   "cell_type": "code",
   "execution_count": 7,
   "metadata": {},
   "outputs": [],
   "source": [
    "'''\n",
    "Madhya Pradesh Data Frame\n",
    "'''\n",
    "\n",
    "MP = []\n",
    "# 'x' will have all the names of Cities in the State\n",
    "for x in MP_Data['Detected City'].unique():\n",
    "    # 'temp' is a DataFrame that contains details of the Current City\n",
    "    temp = MP_Data[MP_Data['Detected City']==x]\n",
    "    # The List 'MP' contains sub-lists with 'Name of City' and 'Number of Registered Cases'\n",
    "    MP.append([x,temp['Detected City'].count()])\n",
    "# Converting the Nested List into a DataFrame\n",
    "MP_df = pd.DataFrame(MP)\n",
    "# Defining the Column Names\n",
    "MP_df.columns = ['City_Name','Number_Of_Patients']\n",
    "# Arranging the DataFrame in Descending Order to Obtain Cities with Max Cases on Top\n",
    "MP_df = MP_df.sort_values(by=['Number_Of_Patients'],ascending=False)"
   ]
  },
  {
   "cell_type": "markdown",
   "metadata": {},
   "source": [
    "# Data Visualization"
   ]
  },
  {
   "cell_type": "code",
   "execution_count": 8,
   "metadata": {},
   "outputs": [],
   "source": [
    "# Importing Libraries\n",
    "import matplotlib.pyplot as plt\n",
    "import seaborn as sns\n",
    "import numpy as np"
   ]
  },
  {
   "cell_type": "code",
   "execution_count": 9,
   "metadata": {},
   "outputs": [
    {
     "data": {
      "image/png": "[encoded data removed]",
      "text/plain": [
       "<Figure size 432x288 with 1 Axes>"
      ]
     },
     "metadata": {
      "needs_background": "light"
     },
     "output_type": "display_data"
    }
   ],
   "source": [
    "'''\n",
    "Maharashtra\n",
    "'''\n",
    "# Defining a Bar Graph\n",
    "plt.bar(MH_df[:4]['City_Name'], MH_df[:4]['Number_Of_Patients'])\n",
    "\n",
    "# Print the Graph\n",
    "plt.show()"
   ]
  },
  {
   "cell_type": "code",
   "execution_count": 10,
   "metadata": {},
   "outputs": [
    {
     "data": {
      "text/plain": [
       "<matplotlib.axes._subplots.AxesSubplot at 0x11f9005d0>"
      ]
     },
     "execution_count": 10,
     "metadata": {},
     "output_type": "execute_result"
    },
    {
     "data": {
      "image/png": "[encoded data removed]",
      "text/plain": [
       "<Figure size 432x288 with 1 Axes>"
      ]
     },
     "metadata": {
      "needs_background": "light"
     },
     "output_type": "display_data"
    }
   ],
   "source": [
    "sns.boxplot(MH_df[['Number_Of_Patients']])"
   ]
  },
  {
   "cell_type": "code",
   "execution_count": 11,
   "metadata": {},
   "outputs": [
    {
     "data": {
      "image/png": "[encoded data removed]",
      "text/plain": [
       "<Figure size 432x288 with 1 Axes>"
      ]
     },
     "metadata": {
      "needs_background": "light"
     },
     "output_type": "display_data"
    }
   ],
   "source": [
    "'''\n",
    "Tamil Nadu\n",
    "'''\n",
    "# Defining a Bar Graph\n",
    "plt.bar(TN_df[:4]['City_Name'], TN_df[:4]['Number_Of_Patients'])\n",
    "\n",
    "# Print the Graph\n",
    "plt.show()"
   ]
  },
  {
   "cell_type": "code",
   "execution_count": 12,
   "metadata": {},
   "outputs": [
    {
     "data": {
      "text/plain": [
       "<matplotlib.axes._subplots.AxesSubplot at 0x11fba6f10>"
      ]
     },
     "execution_count": 12,
     "metadata": {},
     "output_type": "execute_result"
    },
    {
     "data": {
      "image/png": "[encoded data removed]",
      "text/plain": [
       "<Figure size 432x288 with 1 Axes>"
      ]
     },
     "metadata": {
      "needs_background": "light"
     },
     "output_type": "display_data"
    }
   ],
   "source": [
    "sns.boxplot(TN_df[['Number_Of_Patients']])"
   ]
  },
  {
   "cell_type": "code",
   "execution_count": 13,
   "metadata": {},
   "outputs": [
    {
     "data": {
      "image/png": "[encoded data removed]",
      "text/plain": [
       "<Figure size 432x288 with 1 Axes>"
      ]
     },
     "metadata": {
      "needs_background": "light"
     },
     "output_type": "display_data"
    }
   ],
   "source": [
    "'''\n",
    "Delhi\n",
    "'''\n",
    "# Defining a Bar Graph\n",
    "plt.bar(DL_df[:4]['City_Name'], DL_df[:4]['Number_Of_Patients'])\n",
    "\n",
    "# Print the Graph\n",
    "plt.show()"
   ]
  },
  {
   "cell_type": "code",
   "execution_count": 14,
   "metadata": {},
   "outputs": [
    {
     "data": {
      "text/plain": [
       "<matplotlib.axes._subplots.AxesSubplot at 0x11fcfe8d0>"
      ]
     },
     "execution_count": 14,
     "metadata": {},
     "output_type": "execute_result"
    },
    {
     "data": {
      "image/png": "[encoded data removed]",
      "text/plain": [
       "<Figure size 432x288 with 1 Axes>"
      ]
     },
     "metadata": {
      "needs_background": "light"
     },
     "output_type": "display_data"
    }
   ],
   "source": [
    "sns.boxplot(DL_df[['Number_Of_Patients']])"
   ]
  },
  {
   "cell_type": "code",
   "execution_count": 15,
   "metadata": {},
   "outputs": [
    {
     "data": {
      "image/png": "[encoded data removed]",
      "text/plain": [
       "<Figure size 432x288 with 1 Axes>"
      ]
     },
     "metadata": {
      "needs_background": "light"
     },
     "output_type": "display_data"
    }
   ],
   "source": [
    "'''\n",
    "Madhya Pradesh\n",
    "'''\n",
    "# Defining a Bar Graph\n",
    "plt.bar(MP_df[:4]['City_Name'], MP_df[:4]['Number_Of_Patients'])\n",
    "\n",
    "# Print the Graph\n",
    "plt.show()"
   ]
  },
  {
   "cell_type": "code",
   "execution_count": 16,
   "metadata": {},
   "outputs": [
    {
     "data": {
      "text/plain": [
       "<matplotlib.axes._subplots.AxesSubplot at 0x11feee850>"
      ]
     },
     "execution_count": 16,
     "metadata": {},
     "output_type": "execute_result"
    },
    {
     "data": {
      "image/png": "[encoded data removed]",
      "text/plain": [
       "<Figure size 432x288 with 1 Axes>"
      ]
     },
     "metadata": {
      "needs_background": "light"
     },
     "output_type": "display_data"
    }
   ],
   "source": [
    "sns.boxplot(MP_df[['Number_Of_Patients']])"
   ]
  },
  {
   "cell_type": "code",
   "execution_count": null,
   "metadata": {},
   "outputs": [],
   "source": []
  }
 ],
 "metadata": {
  "kernelspec": {
   "display_name": "Python 3",
   "language": "python",
   "name": "python3"
  },
  "language_info": {
   "codemirror_mode": {
    "name": "ipython",
    "version": 3
   },
   "file_extension": ".py",
   "mimetype": "text/x-python",
   "name": "python",
   "nbconvert_exporter": "python",
   "pygments_lexer": "ipython3",
   "version": "3.7.5"
  }
 },
 "nbformat": 4,
 "nbformat_minor": 2
}
